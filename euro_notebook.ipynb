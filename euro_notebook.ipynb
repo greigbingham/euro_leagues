{
 "cells": [
  {
   "cell_type": "code",
   "execution_count": 66,
   "metadata": {},
   "outputs": [
    {
     "name": "stdout",
     "output_type": "stream",
     "text": [
      "[['A1', 'A2'], ['A1', 'A3'], ['A2', 'A3'], ['A4', 'A5'], ['A4', 'A6'], ['A5', 'A6'], ['A7', 'A8'], ['A7', 'A9'], ['A8', 'A9']]\n"
     ]
    }
   ],
   "source": [
    "# List of teams in group A\n",
    "teams_A = ['A1', 'A2', 'A3', 'A4', 'A5', 'A6', 'A7', 'A8', 'A9']\n",
    "\n",
    "# Initialize the fixtures list\n",
    "fixtures = []\n",
    "\n",
    "# Generate fixtures for each team\n",
    "for i in range(0, len(teams_A), 3):\n",
    "    # Group of three teams\n",
    "    group = teams_A[i:i+3]\n",
    "\n",
    "    # Assign fixtures\n",
    "    fixtures.append([group[0], group[1]])  # Home game for first team in the group\n",
    "    fixtures.append([group[0], group[2]])  # Away game for first team in the group\n",
    "    fixtures.append([group[1], group[2]])  # Home game for second team in the group\n",
    "\n",
    "print(fixtures)"
   ]
  },
  {
   "cell_type": "code",
   "execution_count": 67,
   "metadata": {},
   "outputs": [
    {
     "name": "stdout",
     "output_type": "stream",
     "text": [
      "[['A1', 'A2'], ['A1', 'A3'], ['A2', 'A3'], ['A4', 'A5'], ['A4', 'A6'], ['A5', 'A6'], ['A7', 'A8'], ['A7', 'A9'], ['A8', 'A9'], ['B1', 'B2'], ['B1', 'B3'], ['B2', 'B3'], ['B4', 'B5'], ['B4', 'B6'], ['B5', 'B6'], ['B7', 'B8'], ['B7', 'B9'], ['B8', 'B9'], ['C1', 'C2'], ['C1', 'C3'], ['C2', 'C3'], ['C4', 'C5'], ['C4', 'C6'], ['C5', 'C6'], ['C7', 'C8'], ['C7', 'C9'], ['C8', 'C9'], ['D1', 'D2'], ['D1', 'D3'], ['D2', 'D3'], ['D4', 'D5'], ['D4', 'D6'], ['D5', 'D6'], ['D7', 'D8'], ['D7', 'D9'], ['D8', 'D9']]\n"
     ]
    }
   ],
   "source": [
    "# List of all teams\n",
    "teams = ['A1', 'A2', 'A3', 'A4', 'A5', 'A6', 'A7', 'A8', 'A9', 'B1', 'B2', 'B3', 'B4', 'B5', 'B6', 'B7', 'B8', 'B9', 'C1', 'C2', 'C3', 'C4', 'C5', 'C6', 'C7', 'C8', 'C9', 'D1', 'D2', 'D3', 'D4', 'D5', 'D6', 'D7', 'D8', 'D9']\n",
    "\n",
    "# Divide teams into pots\n",
    "pots = {'A': teams[0:9], 'B': teams[9:18], 'C': teams[18:27], 'D': teams[27:36]}\n",
    "\n",
    "# Initialize the fixtures list\n",
    "fixtures = []\n",
    "\n",
    "# Generate fixtures for each pot\n",
    "for pot in pots:\n",
    "    for i in range(0, len(pots[pot]), 3):\n",
    "        # Group of three teams\n",
    "        group = pots[pot][i:i+3]\n",
    "\n",
    "        # Assign fixtures\n",
    "        fixtures.append([group[0], group[1]])  # Home game for first team in the group\n",
    "        fixtures.append([group[0], group[2]])  # Away game for first team in the group\n",
    "        fixtures.append([group[1], group[2]])  # Home game for second team in the group\n",
    "\n",
    "print(fixtures)"
   ]
  },
  {
   "cell_type": "code",
   "execution_count": 68,
   "metadata": {},
   "outputs": [
    {
     "name": "stdout",
     "output_type": "stream",
     "text": [
      "[['A1', 'B1'], ['A1', 'B2'], ['A2', 'B2'], ['A2', 'B3'], ['A3', 'B3'], ['A3', 'B4'], ['A4', 'B4'], ['A4', 'B5'], ['A5', 'B5'], ['A5', 'B6'], ['A6', 'B6'], ['A6', 'B7'], ['A7', 'B7'], ['A7', 'B8'], ['A8', 'B8'], ['A8', 'B9'], ['A9', 'B9'], ['A9', 'B1']]\n"
     ]
    }
   ],
   "source": [
    "# List of all teams\n",
    "teams = ['A1', 'A2', 'A3', 'A4', 'A5', 'A6', 'A7', 'A8', 'A9', 'B1', 'B2', 'B3', 'B4', 'B5', 'B6', 'B7', 'B8', 'B9']\n",
    "\n",
    "# Divide teams into pots\n",
    "pots = {'A': teams[0:9], 'B': teams[9:18]}\n",
    "\n",
    "# Initialize the fixtures list\n",
    "fixtures = []\n",
    "\n",
    "# Generate fixtures for each pot\n",
    "for i in range(len(pots['A'])):\n",
    "    # Home game for A against B\n",
    "    fixtures.append([pots['A'][i], pots['B'][i]])\n",
    "    # Away game for A against B\n",
    "    fixtures.append([pots['A'][i], pots['B'][(i+1)%len(pots['B'])]])\n",
    "\n",
    "print(fixtures)"
   ]
  },
  {
   "cell_type": "code",
   "execution_count": 69,
   "metadata": {},
   "outputs": [
    {
     "name": "stdout",
     "output_type": "stream",
     "text": [
      "[['A1', 'A2'], ['A1', 'A3'], ['A2', 'A3'], ['A4', 'A5'], ['A4', 'A6'], ['A5', 'A6'], ['A7', 'A8'], ['A7', 'A9'], ['A8', 'A9'], ['B1', 'B2'], ['B1', 'B3'], ['B2', 'B3'], ['B4', 'B5'], ['B4', 'B6'], ['B5', 'B6'], ['B7', 'B8'], ['B7', 'B9'], ['B8', 'B9'], ['C1', 'C2'], ['C1', 'C3'], ['C2', 'C3'], ['C4', 'C5'], ['C4', 'C6'], ['C5', 'C6'], ['C7', 'C8'], ['C7', 'C9'], ['C8', 'C9'], ['D1', 'D2'], ['D1', 'D3'], ['D2', 'D3'], ['D4', 'D5'], ['D4', 'D6'], ['D5', 'D6'], ['D7', 'D8'], ['D7', 'D9'], ['D8', 'D9'], ['A1', 'B1'], ['A1', 'B2'], ['A2', 'B2'], ['A2', 'B3'], ['A3', 'B3'], ['A3', 'B4'], ['A4', 'B4'], ['A4', 'B5'], ['A5', 'B5'], ['A5', 'B6'], ['A6', 'B6'], ['A6', 'B7'], ['A7', 'B7'], ['A7', 'B8'], ['A8', 'B8'], ['A8', 'B9'], ['A9', 'B9'], ['A9', 'B1'], ['A1', 'C1'], ['A1', 'C2'], ['A2', 'C2'], ['A2', 'C3'], ['A3', 'C3'], ['A3', 'C4'], ['A4', 'C4'], ['A4', 'C5'], ['A5', 'C5'], ['A5', 'C6'], ['A6', 'C6'], ['A6', 'C7'], ['A7', 'C7'], ['A7', 'C8'], ['A8', 'C8'], ['A8', 'C9'], ['A9', 'C9'], ['A9', 'C1'], ['A1', 'D1'], ['A1', 'D2'], ['A2', 'D2'], ['A2', 'D3'], ['A3', 'D3'], ['A3', 'D4'], ['A4', 'D4'], ['A4', 'D5'], ['A5', 'D5'], ['A5', 'D6'], ['A6', 'D6'], ['A6', 'D7'], ['A7', 'D7'], ['A7', 'D8'], ['A8', 'D8'], ['A8', 'D9'], ['A9', 'D9'], ['A9', 'D1'], ['B1', 'C1'], ['B1', 'C2'], ['B2', 'C2'], ['B2', 'C3'], ['B3', 'C3'], ['B3', 'C4'], ['B4', 'C4'], ['B4', 'C5'], ['B5', 'C5'], ['B5', 'C6'], ['B6', 'C6'], ['B6', 'C7'], ['B7', 'C7'], ['B7', 'C8'], ['B8', 'C8'], ['B8', 'C9'], ['B9', 'C9'], ['B9', 'C1'], ['C1', 'D1'], ['C1', 'D2'], ['C2', 'D2'], ['C2', 'D3'], ['C3', 'D3'], ['C3', 'D4'], ['C4', 'D4'], ['C4', 'D5'], ['C5', 'D5'], ['C5', 'D6'], ['C6', 'D6'], ['C6', 'D7'], ['C7', 'D7'], ['C7', 'D8'], ['C8', 'D8'], ['C8', 'D9'], ['C9', 'D9'], ['C9', 'D1']]\n"
     ]
    }
   ],
   "source": [
    "# List of all teams\n",
    "teams = ['A1', 'A2', 'A3', 'A4', 'A5', 'A6', 'A7', 'A8', 'A9', 'B1', 'B2', 'B3', 'B4', 'B5', 'B6', 'B7', 'B8', 'B9', 'C1', 'C2', 'C3', 'C4', 'C5', 'C6', 'C7', 'C8', 'C9', 'D1', 'D2', 'D3', 'D4', 'D5', 'D6', 'D7', 'D8', 'D9']\n",
    "\n",
    "# Divide teams into pots\n",
    "pots = {'A': teams[0:9], 'B': teams[9:18], 'C': teams[18:27], 'D': teams[27:36]}\n",
    "\n",
    "# Initialize the fixtures list\n",
    "fixtures = []\n",
    "\n",
    "# Generate fixtures for each pot\n",
    "for pot in pots:\n",
    "    for i in range(0, len(pots[pot]), 3):\n",
    "        # Group of three teams\n",
    "        group = pots[pot][i:i+3]\n",
    "\n",
    "        # Assign fixtures\n",
    "        fixtures.append([group[0], group[1]])  # Home game for first team in the group\n",
    "        fixtures.append([group[0], group[2]])  # Away game for first team in the group\n",
    "        fixtures.append([group[1], group[2]])  # Home game for second team in the group\n",
    "\n",
    "# Generate fixtures for A vs B, A vs C, A vs D, B vs C, and C vs D\n",
    "for pot1, pot2 in [('A', 'B'), ('A', 'C'), ('A', 'D'), ('B', 'C'), ('C', 'D')]:\n",
    "    for i in range(len(pots[pot1])):\n",
    "        # Home game for pot1 against pot2\n",
    "        fixtures.append([pots[pot1][i], pots[pot2][i]])\n",
    "        # Away game for pot1 against pot2\n",
    "        fixtures.append([pots[pot1][i], pots[pot2][(i+1)%len(pots[pot2])]])\n",
    "\n",
    "print(fixtures)"
   ]
  },
  {
   "cell_type": "code",
   "execution_count": 70,
   "metadata": {},
   "outputs": [
    {
     "name": "stdout",
     "output_type": "stream",
     "text": [
      "[['A1', 'A2'], ['A3', 'A1'], ['A2', 'A3'], ['A4', 'A5'], ['A6', 'A4'], ['A5', 'A6'], ['A7', 'A8'], ['A9', 'A7'], ['A8', 'A9'], ['B1', 'B2'], ['B3', 'B1'], ['B2', 'B3'], ['B4', 'B5'], ['B6', 'B4'], ['B5', 'B6'], ['B7', 'B8'], ['B9', 'B7'], ['B8', 'B9'], ['C1', 'C2'], ['C3', 'C1'], ['C2', 'C3'], ['C4', 'C5'], ['C6', 'C4'], ['C5', 'C6'], ['C7', 'C8'], ['C9', 'C7'], ['C8', 'C9'], ['D1', 'D2'], ['D3', 'D1'], ['D2', 'D3'], ['D4', 'D5'], ['D6', 'D4'], ['D5', 'D6'], ['D7', 'D8'], ['D9', 'D7'], ['D8', 'D9'], ['A1', 'B1'], ['B2', 'A1'], ['A2', 'B2'], ['B3', 'A2'], ['A3', 'B3'], ['B4', 'A3'], ['A4', 'B4'], ['B5', 'A4'], ['A5', 'B5'], ['B6', 'A5'], ['A6', 'B6'], ['B7', 'A6'], ['A7', 'B7'], ['B8', 'A7'], ['A8', 'B8'], ['B9', 'A8'], ['A9', 'B9'], ['B1', 'A9'], ['A1', 'C1'], ['C2', 'A1'], ['A2', 'C2'], ['C3', 'A2'], ['A3', 'C3'], ['C4', 'A3'], ['A4', 'C4'], ['C5', 'A4'], ['A5', 'C5'], ['C6', 'A5'], ['A6', 'C6'], ['C7', 'A6'], ['A7', 'C7'], ['C8', 'A7'], ['A8', 'C8'], ['C9', 'A8'], ['A9', 'C9'], ['C1', 'A9'], ['A1', 'D1'], ['D2', 'A1'], ['A2', 'D2'], ['D3', 'A2'], ['A3', 'D3'], ['D4', 'A3'], ['A4', 'D4'], ['D5', 'A4'], ['A5', 'D5'], ['D6', 'A5'], ['A6', 'D6'], ['D7', 'A6'], ['A7', 'D7'], ['D8', 'A7'], ['A8', 'D8'], ['D9', 'A8'], ['A9', 'D9'], ['D1', 'A9'], ['B1', 'C1'], ['C2', 'B1'], ['B2', 'C2'], ['C3', 'B2'], ['B3', 'C3'], ['C4', 'B3'], ['B4', 'C4'], ['C5', 'B4'], ['B5', 'C5'], ['C6', 'B5'], ['B6', 'C6'], ['C7', 'B6'], ['B7', 'C7'], ['C8', 'B7'], ['B8', 'C8'], ['C9', 'B8'], ['B9', 'C9'], ['C1', 'B9'], ['B1', 'D1'], ['D2', 'B1'], ['B2', 'D2'], ['D3', 'B2'], ['B3', 'D3'], ['D4', 'B3'], ['B4', 'D4'], ['D5', 'B4'], ['B5', 'D5'], ['D6', 'B5'], ['B6', 'D6'], ['D7', 'B6'], ['B7', 'D7'], ['D8', 'B7'], ['B8', 'D8'], ['D9', 'B8'], ['B9', 'D9'], ['D1', 'B9'], ['C1', 'D1'], ['D2', 'C1'], ['C2', 'D2'], ['D3', 'C2'], ['C3', 'D3'], ['D4', 'C3'], ['C4', 'D4'], ['D5', 'C4'], ['C5', 'D5'], ['D6', 'C5'], ['C6', 'D6'], ['D7', 'C6'], ['C7', 'D7'], ['D8', 'C7'], ['C8', 'D8'], ['D9', 'C8'], ['C9', 'D9'], ['D1', 'C9']]\n"
     ]
    }
   ],
   "source": [
    "# List of all teams\n",
    "teams = ['A1', 'A2', 'A3', 'A4', 'A5', 'A6', 'A7', 'A8', 'A9', 'B1', 'B2', 'B3', 'B4', 'B5', 'B6', 'B7', 'B8', 'B9', 'C1', 'C2', 'C3', 'C4', 'C5', 'C6', 'C7', 'C8', 'C9', 'D1', 'D2', 'D3', 'D4', 'D5', 'D6', 'D7', 'D8', 'D9']\n",
    "\n",
    "# Divide teams into pots\n",
    "pots = {'A': teams[0:9], 'B': teams[9:18], 'C': teams[18:27], 'D': teams[27:36]}\n",
    "\n",
    "# Initialize the fixtures list\n",
    "fixtures = []\n",
    "\n",
    "# Generate fixtures for each pot\n",
    "for pot in pots:\n",
    "    for i in range(0, len(pots[pot]), 3):\n",
    "        # Group of three teams\n",
    "        group = pots[pot][i:i+3]\n",
    "\n",
    "        # Assign fixtures\n",
    "        fixtures.append([group[0], group[1]])  # Home game for first team in the group\n",
    "        fixtures.append([group[2], group[0]])  # Away game for first team in the group\n",
    "        fixtures.append([group[1], group[2]])  # Home game for second team in the group\n",
    "\n",
    "# Generate fixtures for A vs B, A vs C, A vs D, B vs C, and C vs D\n",
    "for pot1, pot2 in [('A', 'B'), ('A', 'C'), ('A', 'D'), ('B', 'C'), ('B', 'D'), ('C', 'D')]:\n",
    "    for i in range(len(pots[pot1])):\n",
    "        # Home game for pot1 against pot2\n",
    "        fixtures.append([pots[pot1][i], pots[pot2][i]])\n",
    "        # Away game for pot1 against pot2\n",
    "        fixtures.append([pots[pot2][(i+1)%len(pots[pot2])], pots[pot1][i]])\n",
    "\n",
    "print(fixtures)"
   ]
  },
  {
   "cell_type": "code",
   "execution_count": 71,
   "metadata": {},
   "outputs": [
    {
     "name": "stdout",
     "output_type": "stream",
     "text": [
      "144\n"
     ]
    }
   ],
   "source": [
    "# Print the number of fixtures\n",
    "print(len(fixtures))"
   ]
  },
  {
   "cell_type": "code",
   "execution_count": 72,
   "metadata": {},
   "outputs": [
    {
     "name": "stdout",
     "output_type": "stream",
     "text": [
      "A1: 4 home fixtures, 4 away fixtures\n",
      "A2: 4 home fixtures, 4 away fixtures\n",
      "A3: 4 home fixtures, 4 away fixtures\n",
      "A4: 4 home fixtures, 4 away fixtures\n",
      "A5: 4 home fixtures, 4 away fixtures\n",
      "A6: 4 home fixtures, 4 away fixtures\n",
      "A7: 4 home fixtures, 4 away fixtures\n",
      "A8: 4 home fixtures, 4 away fixtures\n",
      "A9: 4 home fixtures, 4 away fixtures\n",
      "B1: 4 home fixtures, 4 away fixtures\n",
      "B2: 4 home fixtures, 4 away fixtures\n",
      "B3: 4 home fixtures, 4 away fixtures\n",
      "B4: 4 home fixtures, 4 away fixtures\n",
      "B5: 4 home fixtures, 4 away fixtures\n",
      "B6: 4 home fixtures, 4 away fixtures\n",
      "B7: 4 home fixtures, 4 away fixtures\n",
      "B8: 4 home fixtures, 4 away fixtures\n",
      "B9: 4 home fixtures, 4 away fixtures\n",
      "C1: 4 home fixtures, 4 away fixtures\n",
      "C2: 4 home fixtures, 4 away fixtures\n",
      "C3: 4 home fixtures, 4 away fixtures\n",
      "C4: 4 home fixtures, 4 away fixtures\n",
      "C5: 4 home fixtures, 4 away fixtures\n",
      "C6: 4 home fixtures, 4 away fixtures\n",
      "C7: 4 home fixtures, 4 away fixtures\n",
      "C8: 4 home fixtures, 4 away fixtures\n",
      "C9: 4 home fixtures, 4 away fixtures\n",
      "D1: 4 home fixtures, 4 away fixtures\n",
      "D2: 4 home fixtures, 4 away fixtures\n",
      "D3: 4 home fixtures, 4 away fixtures\n",
      "D4: 4 home fixtures, 4 away fixtures\n",
      "D5: 4 home fixtures, 4 away fixtures\n",
      "D6: 4 home fixtures, 4 away fixtures\n",
      "D7: 4 home fixtures, 4 away fixtures\n",
      "D8: 4 home fixtures, 4 away fixtures\n",
      "D9: 4 home fixtures, 4 away fixtures\n"
     ]
    }
   ],
   "source": [
    "# Initialize dictionaries to count home and away fixtures\n",
    "home_fixtures = {team: 0 for team in teams}\n",
    "away_fixtures = {team: 0 for team in teams}\n",
    "\n",
    "# Count home and away fixtures\n",
    "for fixture in fixtures:\n",
    "    home_fixtures[fixture[0]] += 1\n",
    "    away_fixtures[fixture[1]] += 1\n",
    "\n",
    "# Print the number of home and away fixtures for each team\n",
    "for team in teams:\n",
    "    print(f\"{team}: {home_fixtures[team]} home fixtures, {away_fixtures[team]} away fixtures\")"
   ]
  },
  {
   "cell_type": "code",
   "execution_count": 78,
   "metadata": {},
   "outputs": [
    {
     "name": "stdout",
     "output_type": "stream",
     "text": [
      "1. D2 - 18 points\n",
      "2. A2 - 15 points\n",
      "3. B1 - 15 points\n",
      "4. C1 - 15 points\n",
      "5. C5 - 15 points\n",
      "6. D7 - 15 points\n",
      "7. A7 - 14 points\n",
      "8. B7 - 14 points\n",
      "9. D8 - 14 points\n",
      "10. C4 - 13 points\n",
      "11. D5 - 13 points\n",
      "12. B9 - 12 points\n",
      "13. C3 - 12 points\n",
      "14. C8 - 12 points\n",
      "15. D4 - 12 points\n",
      "16. A5 - 10 points\n",
      "17. B2 - 10 points\n",
      "18. B4 - 10 points\n",
      "19. B6 - 10 points\n",
      "20. D6 - 10 points\n",
      "21. D9 - 10 points\n",
      "22. A1 - 9 points\n",
      "23. A6 - 9 points\n",
      "24. B8 - 9 points\n",
      "25. D1 - 9 points\n",
      "26. A3 - 8 points\n",
      "27. B5 - 8 points\n",
      "28. C6 - 8 points\n",
      "29. C7 - 8 points\n",
      "30. B3 - 7 points\n",
      "31. C2 - 7 points\n",
      "32. D3 - 7 points\n",
      "33. A4 - 6 points\n",
      "34. A8 - 6 points\n",
      "35. A9 - 6 points\n",
      "36. C9 - 4 points\n"
     ]
    }
   ],
   "source": [
    "import random\n",
    "\n",
    "# Initialize a dictionary to store the points for each team\n",
    "points = {team: 0 for team in teams}\n",
    "\n",
    "# Simulate each fixture\n",
    "for fixture in fixtures:\n",
    "    outcome = random.choice(['win', 'draw', 'lose'])\n",
    "    if outcome == 'win':\n",
    "        points[fixture[0]] += 3\n",
    "    elif outcome == 'draw':\n",
    "        points[fixture[0]] += 1\n",
    "        points[fixture[1]] += 1\n",
    "    else:\n",
    "        points[fixture[1]] += 3\n",
    "\n",
    "# Generate the league table\n",
    "league_table = sorted(points.items(), key=lambda x: x[1], reverse=True)\n",
    "\n",
    "# Print the league table\n",
    "for position, (team, points) in enumerate(league_table, start=1):\n",
    "    print(f\"{position}. {team} - {points} points\")"
   ]
  },
  {
   "cell_type": "code",
   "execution_count": 80,
   "metadata": {},
   "outputs": [
    {
     "name": "stdout",
     "output_type": "stream",
     "text": [
      "1. A7 - 19 points\n",
      "2. A1 - 18 points\n",
      "3. A4 - 17 points\n",
      "4. A3 - 15 points\n",
      "5. B4 - 15 points\n",
      "6. D1 - 15 points\n",
      "7. A5 - 14 points\n",
      "8. B2 - 14 points\n",
      "9. A8 - 13 points\n",
      "10. C2 - 13 points\n",
      "11. C3 - 13 points\n",
      "12. D6 - 13 points\n",
      "13. A6 - 12 points\n",
      "14. B9 - 12 points\n",
      "15. C8 - 12 points\n",
      "16. C9 - 12 points\n",
      "17. A9 - 11 points\n",
      "18. B7 - 11 points\n",
      "19. A2 - 10 points\n",
      "20. B1 - 10 points\n",
      "21. B3 - 10 points\n",
      "22. C4 - 10 points\n",
      "23. D5 - 10 points\n",
      "24. D8 - 10 points\n",
      "25. C6 - 9 points\n",
      "26. B5 - 8 points\n",
      "27. B6 - 8 points\n",
      "28. C7 - 8 points\n",
      "29. D7 - 8 points\n",
      "30. D9 - 8 points\n",
      "31. C5 - 7 points\n",
      "32. D3 - 7 points\n",
      "33. B8 - 6 points\n",
      "34. C1 - 6 points\n",
      "35. D2 - 5 points\n",
      "36. D4 - 5 points\n"
     ]
    }
   ],
   "source": [
    "import numpy as np\n",
    "import random\n",
    "\n",
    "# Define the win probability matrix\n",
    "win_prob_matrix = np.array([\n",
    "    [0.6, 0.7, 0.8, 0.9],  # Probabilities for A as home team\n",
    "    [0.5, 0.6, 0.6, 0.6],  # Probabilities for B as home team\n",
    "    [0.4, 0.5, 0.5, 0.5],  # Probabilities for C as home team\n",
    "    [0.3, 0.4, 0.4, 0.4]   # Probabilities for D as home team\n",
    "])\n",
    "\n",
    "# Define the draw probability matrix\n",
    "draw_prob_matrix = np.array([\n",
    "    [0.25, 0.2, 0.1, 0.05],  # Probabilities for A as home team\n",
    "    [0.2, 0.2, 0.2, 0.2],  # Probabilities for B as home team\n",
    "    [0.3, 0.3, 0.3, 0.3],  # Probabilities for C as home team\n",
    "    [0.3, 0.3, 0.3, 0.3]   # Probabilities for D as home team\n",
    "])\n",
    "\n",
    "# Initialize a dictionary to store the points for each team\n",
    "points = {team: 0 for team in teams}\n",
    "\n",
    "# Simulate each fixture\n",
    "for fixture in fixtures:\n",
    "    # Determine the indices for the home and away teams\n",
    "    home_index = ord(fixture[0][0]) - ord('A')\n",
    "    away_index = ord(fixture[1][0]) - ord('A')\n",
    "    \n",
    "    # Determine the outcome based on the probabilities for this match\n",
    "    outcome = random.choices(\n",
    "        ['home_win', 'draw', 'away_win'],\n",
    "        weights=[\n",
    "            win_prob_matrix[home_index, away_index],\n",
    "            draw_prob_matrix[home_index, away_index],\n",
    "            1 - win_prob_matrix[home_index, away_index] - draw_prob_matrix[home_index, away_index]\n",
    "        ]\n",
    "    )[0]\n",
    "    \n",
    "    if outcome == 'home_win':\n",
    "        points[fixture[0]] += 3\n",
    "    elif outcome == 'draw':\n",
    "        points[fixture[0]] += 1\n",
    "        points[fixture[1]] += 1\n",
    "    else:\n",
    "        points[fixture[1]] += 3\n",
    "\n",
    "# Generate the league table\n",
    "league_table = sorted(points.items(), key=lambda x: x[1], reverse=True)\n",
    "\n",
    "# Print the league table\n",
    "for position, (team, points) in enumerate(league_table, start=1):\n",
    "    print(f\"{position}. {team} - {points} points\")"
   ]
  }
 ],
 "metadata": {
  "kernelspec": {
   "display_name": "sandbox",
   "language": "python",
   "name": "python3"
  },
  "language_info": {
   "codemirror_mode": {
    "name": "ipython",
    "version": 3
   },
   "file_extension": ".py",
   "mimetype": "text/x-python",
   "name": "python",
   "nbconvert_exporter": "python",
   "pygments_lexer": "ipython3",
   "version": "3.11.5"
  }
 },
 "nbformat": 4,
 "nbformat_minor": 2
}
